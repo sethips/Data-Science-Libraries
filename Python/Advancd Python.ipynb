{
 "cells": [
  {
   "cell_type": "markdown",
   "metadata": {},
   "source": [
    "Python is a programming language. Python is often refereed as a scripting language as scripting languages are often interpreted and not compiled.<br>"
   ]
  },
  {
   "cell_type": "code",
   "execution_count": 7,
   "metadata": {},
   "outputs": [],
   "source": [
    "if __name__ == \"__main__\":\n",
    "    # Do anything you want\n",
    "    pass"
   ]
  },
  {
   "cell_type": "markdown",
   "metadata": {},
   "source": [
    "You need this code segment becasue it allows you to execute the code within it when you are directly running the file. So whe nyou create modules you need some code but it must not be executed when you import that module in that case this __if__ statement serves the need."
   ]
  },
  {
   "cell_type": "code",
   "execution_count": 9,
   "metadata": {},
   "outputs": [
    {
     "name": "stdout",
     "output_type": "stream",
     "text": [
      "1 2\n"
     ]
    }
   ],
   "source": [
    "# If you want to give arguments to a function as a list\n",
    "def f(x,y):\n",
    "    print(x, y)\n",
    "\n",
    "myList= [1,2]\n",
    "f(*myList)"
   ]
  },
  {
   "cell_type": "markdown",
   "metadata": {},
   "source": [
    "### Decorators\n",
    "Simple alternative to metaclasses. The '@' indicates the application of decorator."
   ]
  },
  {
   "cell_type": "code",
   "execution_count": 12,
   "metadata": {},
   "outputs": [
    {
     "ename": "NameError",
     "evalue": "name 'myDecorator' is not defined",
     "output_type": "error",
     "traceback": [
      "\u001b[0;31m---------------------------------------------------------------------------\u001b[0m",
      "\u001b[0;31mNameError\u001b[0m                                 Traceback (most recent call last)",
      "\u001b[0;32m<ipython-input-12-da5cae9cd3fc>\u001b[0m in \u001b[0;36m<module>\u001b[0;34m()\u001b[0m\n\u001b[0;32m----> 1\u001b[0;31m \u001b[0;34m@\u001b[0m\u001b[0mmyDecorator\u001b[0m\u001b[0;34m\u001b[0m\u001b[0m\n\u001b[0m\u001b[1;32m      2\u001b[0m \u001b[0;32mdef\u001b[0m \u001b[0maFunction\u001b[0m\u001b[0;34m(\u001b[0m\u001b[0;34m)\u001b[0m\u001b[0;34m:\u001b[0m\u001b[0;34m\u001b[0m\u001b[0m\n\u001b[1;32m      3\u001b[0m     \u001b[0mprint\u001b[0m\u001b[0;34m(\u001b[0m\u001b[0;34m'Inside aFunction'\u001b[0m\u001b[0;34m)\u001b[0m\u001b[0;34m\u001b[0m\u001b[0m\n",
      "\u001b[0;31mNameError\u001b[0m: name 'myDecorator' is not defined"
     ]
    }
   ],
   "source": [
    "@myDecorator\n",
    "def aFunction():\n",
    "    print('Inside aFunction')"
   ]
  },
  {
   "cell_type": "code",
   "execution_count": 30,
   "metadata": {},
   "outputs": [
    {
     "name": "stdout",
     "output_type": "stream",
     "text": [
      "inside my_decorator.__init__()\n",
      "inside aFunction()\n",
      "Finished decorating aFunction()\n",
      "inside my_decorator.__call__()\n"
     ]
    }
   ],
   "source": [
    "class my_decorator(object):\n",
    "    def __init__(self, f):\n",
    "        print(\"inside my_decorator.__init__()\")\n",
    "        f()\n",
    "    def __call__(self):\n",
    "        print(\"inside my_decorator.__call__()\")\n",
    "\n",
    "@my_decorator\n",
    "def aFunction():\n",
    "    print(\"inside aFunction()\")\n",
    "\n",
    "# The part before it would run before going to the next statement \n",
    "# as we used decorators in which we defined the __init__ function\n",
    "print(\"Finished decorating aFunction()\")\n",
    "\n",
    "aFunction()\n",
    "# Decorators replace the original function object with the __call__"
   ]
  },
  {
   "cell_type": "markdown",
   "metadata": {},
   "source": [
    "<p>How decorators work?<br>\n",
    "    When @my_decorator is called it goes to the __init__ function and executes it. We can also run the original function inside the init as function declaration is complete before executing the __init__. After the init function the original function is decorated that is replaced with the __call__ function so when we run original function the code of __call__ is executed.</p>"
   ]
  },
  {
   "cell_type": "code",
   "execution_count": 31,
   "metadata": {},
   "outputs": [],
   "source": [
    "def foo():\n",
    "    pass\n",
    "foo = staticmethod(foo)"
   ]
  },
  {
   "cell_type": "code",
   "execution_count": 32,
   "metadata": {},
   "outputs": [],
   "source": [
    "# You can replace the above code using decorator as\n",
    "@staticmethod\n",
    "def foo():\n",
    "    pass"
   ]
  },
  {
   "cell_type": "markdown",
   "metadata": {},
   "source": [
    "### Metaprogramming\n",
    "Objects are created by other objects called classes. To modify classes we use metaclasses. Default metaclass is 'type'. In simple terms metaclasses create classes. In metaclass creation you may see \\__new\\__ and \\__init\\__. new is used for creation of a new class and init is called after the class is created."
   ]
  },
  {
   "cell_type": "code",
   "execution_count": null,
   "metadata": {},
   "outputs": [],
   "source": []
  },
  {
   "cell_type": "markdown",
   "metadata": {},
   "source": [
    "## \\*args and **kwargs"
   ]
  },
  {
   "cell_type": "code",
   "execution_count": 2,
   "metadata": {},
   "outputs": [],
   "source": [
    "# args and kwargs are convention names you can also write anything like\n",
    "# *first , **second\n",
    "\n",
    "# They are used in function definition allowing you to pass variable number of arguments to a function\n",
    "# *args wraps the arguments"
   ]
  },
  {
   "cell_type": "code",
   "execution_count": 8,
   "metadata": {},
   "outputs": [
    {
     "data": {
      "text/plain": [
       "6"
      ]
     },
     "execution_count": 8,
     "metadata": {},
     "output_type": "execute_result"
    }
   ],
   "source": [
    "def add(*args):\n",
    "    rv = 0\n",
    "    for val in args:\n",
    "        rv = rv + val\n",
    "    return rv\n",
    "\n",
    "add(1,2,3)"
   ]
  },
  {
   "cell_type": "code",
   "execution_count": 7,
   "metadata": {},
   "outputs": [],
   "source": [
    "# *args is used to send non-keyworded argument list to a function\n",
    "# **kwargs allows you to pass kwyworded variable length of arguments"
   ]
  },
  {
   "cell_type": "code",
   "execution_count": 2,
   "metadata": {},
   "outputs": [
    {
     "name": "stdout",
     "output_type": "stream",
     "text": [
      "THe var_name is  name and var_value is Advanced Python\n",
      "THe var_name is  language and var_value is Python\n",
      "THe var_name is  vaersion and var_value is 3.6\n"
     ]
    }
   ],
   "source": [
    "def print_keywords(**kwargs):\n",
    "    if kwargs is not None:\n",
    "        for var_name, var_value in kwargs.items():\n",
    "            print('THe var_name is  %s and var_value is %s'%(var_name, var_value))\n",
    "            \n",
    "print_keywords(name='Advanced Python', language='Python', vaersion=3.6)"
   ]
  },
  {
   "cell_type": "code",
   "execution_count": null,
   "metadata": {},
   "outputs": [],
   "source": []
  }
 ],
 "metadata": {
  "kernelspec": {
   "display_name": "Python 3",
   "language": "python",
   "name": "python3"
  },
  "language_info": {
   "codemirror_mode": {
    "name": "ipython",
    "version": 3
   },
   "file_extension": ".py",
   "mimetype": "text/x-python",
   "name": "python",
   "nbconvert_exporter": "python",
   "pygments_lexer": "ipython3",
   "version": "3.6.4"
  }
 },
 "nbformat": 4,
 "nbformat_minor": 2
}
