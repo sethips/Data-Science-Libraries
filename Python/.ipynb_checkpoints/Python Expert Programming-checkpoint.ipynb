{
 "cells": [
  {
   "cell_type": "code",
   "execution_count": 2,
   "metadata": {},
   "outputs": [],
   "source": [
    "# Simplest way to create a Python object \n",
    "class Polynomial1:\n",
    "    pass\n",
    "\n",
    "p1 = Polynomial1()\n",
    "p2 = Polynomial1()\n",
    "\n",
    "p1.coeffs = 1,2,3\n",
    "p2.coeffs = 3,4,5\n",
    "# The problem with this code is that it contains repeated code"
   ]
  },
  {
   "cell_type": "code",
   "execution_count": 29,
   "metadata": {},
   "outputs": [],
   "source": [
    "class Polynomial2:\n",
    "    def __init__(self, *coeffs):\n",
    "        self.coeffs = coeffs\n",
    "\n",
    "p1 = Polynomial2(1,2,3)\n",
    "p2 = Polynomial2(3,4,5)\n",
    "# Now we accomplished the same task of object creation by using init function"
   ]
  },
  {
   "cell_type": "code",
   "execution_count": 30,
   "metadata": {},
   "outputs": [
    {
     "name": "stdout",
     "output_type": "stream",
     "text": [
      "<__main__.Polynomial2 object at 0x7f527c2bb128>\n",
      "<__main__.Polynomial2 object at 0x7f527c2bba20>\n"
     ]
    }
   ],
   "source": [
    "print(p1)\n",
    "print(p2)\n",
    "# Now this looks so ugly"
   ]
  },
  {
   "cell_type": "code",
   "execution_count": 31,
   "metadata": {},
   "outputs": [
    {
     "name": "stdout",
     "output_type": "stream",
     "text": [
      "Polynomial(*(1, 2, 3))\n",
      "Polynomial(*(3, 4, 5))\n"
     ]
    }
   ],
   "source": [
    "# I am missing __repr__ in my class\n",
    "class Polynomial3:\n",
    "    def __init__(self, *coeffs):\n",
    "        self.coeffs = coeffs\n",
    "    def __repr__(self):\n",
    "        return 'Polynomial(*{!r})'.format(self.coeffs)\n",
    "\n",
    "p1 = Polynomial3(1,2,3)\n",
    "p2 = Polynomial3(3,4,5)\n",
    "\n",
    "print(p1)\n",
    "print(p2)\n",
    "\n",
    "# The function implemented in __repr__ by uses !r whcih is used to place the contenst of format"
   ]
  },
  {
   "cell_type": "code",
   "execution_count": 34,
   "metadata": {},
   "outputs": [
    {
     "name": "stdout",
     "output_type": "stream",
     "text": [
      "Polynomial(*(4, 6, 8))\n",
      "3\n"
     ]
    }
   ],
   "source": [
    "# Now I want to add them\n",
    "class Polynomial4:\n",
    "    def __init__(self, *coeffs):\n",
    "        self.coeffs = coeffs\n",
    "    def __repr__(self):\n",
    "        return 'Polynomial(*{!r})'.format(self.coeffs)\n",
    "    def __add__(self, other):\n",
    "        return Polynomial4(*(x+y for x, y in zip(self.coeffs, other.coeffs)))\n",
    "    def __len__(self):\n",
    "        return len(self.coeffs)\n",
    "p1 = Polynomial4(1,2,3)\n",
    "p2 = Polynomial4(3,4,5)\n",
    "\n",
    "print(p1+p2)\n",
    "print(len(p1))"
   ]
  },
  {
   "cell_type": "code",
   "execution_count": 35,
   "metadata": {},
   "outputs": [],
   "source": [
    "# The double underscore functions that I use here are called data model methods\n",
    "# x + y  -> __add__\n",
    "# init x  -> __init__\n",
    "# represent x ->  __repr__\n",
    "# We can see that there is strong correlation ampong the function implemented by data model functions and the name of the function"
   ]
  },
  {
   "cell_type": "code",
   "execution_count": 36,
   "metadata": {},
   "outputs": [],
   "source": [
    "# To understand the object oriented view of python you must know these three\n",
    "# 1) The protocols aka data model\n",
    "# 2) Built in inheritance protocol\n",
    "# 3) How oop in python works"
   ]
  },
  {
   "cell_type": "markdown",
   "metadata": {},
   "source": [
    "## Metaclasses"
   ]
  },
  {
   "cell_type": "code",
   "execution_count": 50,
   "metadata": {},
   "outputs": [],
   "source": [
    "# For this example suppose you have two teams develoer and core infrastructure team that writes library software. The library provides classes that are than made \n",
    "# subclass in user"
   ]
  },
  {
   "cell_type": "code",
   "execution_count": null,
   "metadata": {},
   "outputs": [],
   "source": [
    "# Case 1 where you work at user.py"
   ]
  },
  {
   "cell_type": "code",
   "execution_count": 46,
   "metadata": {},
   "outputs": [],
   "source": [
    "# Library.py\n",
    "class Base:\n",
    "    def foo(self):\n",
    "        return 'foo'"
   ]
  },
  {
   "cell_type": "code",
   "execution_count": 49,
   "metadata": {},
   "outputs": [],
   "source": [
    "# user.py\n",
    "\n",
    "assert hasattr(Base, 'foo'), \"You broke it fool!\"    # It checks that the base library contains the needed methods\n",
    "class Derived(Base):\n",
    "    def bar(self):\n",
    "        return self.foo\n",
    "        # This statement can break when their is no foo method in the base class. To overcome this you can use assert "
   ]
  },
  {
   "cell_type": "code",
   "execution_count": 51,
   "metadata": {},
   "outputs": [],
   "source": [
    "# Case 2 where you work at library.py\n",
    "# Here you assume that you will implement bar function in the future and you want to deal with the user.py for not to use that method"
   ]
  },
  {
   "cell_type": "code",
   "execution_count": 1,
   "metadata": {},
   "outputs": [],
   "source": [
    "# library.py\n",
    "\n",
    "# We can use try except but that will only work at run time\n",
    "class Base:\n",
    "    def foo(self):\n",
    "        return self.bar"
   ]
  },
  {
   "cell_type": "code",
   "execution_count": 2,
   "metadata": {},
   "outputs": [],
   "source": [
    "# user.py\n",
    "\n",
    "class Derived(Base):\n",
    "    def bar(self):\n",
    "        return 'bar'"
   ]
  },
  {
   "cell_type": "code",
   "execution_count": 3,
   "metadata": {},
   "outputs": [
    {
     "name": "stdout",
     "output_type": "stream",
     "text": [
      "  5           0 LOAD_BUILD_CLASS\n",
      "              2 LOAD_CONST               1 (<code object Some at 0x7f5bf0f5d300, file \"<ipython-input-3-fd1254fc8d14>\", line 5>)\n",
      "              4 LOAD_CONST               2 ('Some')\n",
      "              6 MAKE_FUNCTION            0\n",
      "              8 LOAD_CONST               2 ('Some')\n",
      "             10 CALL_FUNCTION            2\n",
      "             12 STORE_FAST               0 (Some)\n",
      "             14 LOAD_CONST               0 (None)\n",
      "             16 RETURN_VALUE\n"
     ]
    }
   ],
   "source": [
    "# To view actual runtime instructions \n",
    "from dis import dis\n",
    "\n",
    "def _():\n",
    "    class Some:\n",
    "        pass\n",
    "\n",
    "dis(_)"
   ]
  },
  {
   "cell_type": "code",
   "execution_count": 4,
   "metadata": {},
   "outputs": [],
   "source": [
    "# What it does is it shows the exact instructions that python follows at runtime\n",
    "# Now we have a underscore function that allows you to view your class while you are building it"
   ]
  },
  {
   "cell_type": "code",
   "execution_count": 6,
   "metadata": {},
   "outputs": [
    {
     "name": "stdout",
     "output_type": "stream",
     "text": [
      "<function my_bc at 0x7f0504ea3f28>\n"
     ]
    }
   ],
   "source": [
    "old_bc = __build_class__\n",
    "def my_bc(*a, **kw):\n",
    "    print('my build class -> ', a, kw)\n",
    "    return old_bc(*a, **kw)\n",
    "import builtins\n",
    "builtins.__build_class__ = my_bc\n",
    "\n",
    "print(my_bc)"
   ]
  },
  {
   "cell_type": "code",
   "execution_count": 6,
   "metadata": {},
   "outputs": [],
   "source": [
    "# Now I can use the obove approach to check classes for functions\n",
    "old_bc = __build_class__\n",
    "def my_bc(fun, name, base=None, **kw):\n",
    "    if base == Base:\n",
    "        print('Check if bar function is defined')\n",
    "    if base is not None:\n",
    "        return old_bc(fun, name, bases, **kw)\n",
    "    return old_bc(fun, name, **kw)\n",
    "\n",
    "import builtins\n",
    "builtins.__build_class__ = my_bc"
   ]
  },
  {
   "cell_type": "code",
   "execution_count": 7,
   "metadata": {},
   "outputs": [],
   "source": [
    "# The above method works when you run the code from a terminal and in practice it is not implemented in this way.\n",
    "# To solve our case 2 problem we use metaclasses."
   ]
  },
  {
   "cell_type": "code",
   "execution_count": 1,
   "metadata": {},
   "outputs": [
    {
     "name": "stdout",
     "output_type": "stream",
     "text": [
      "BaseMeta.__new__ <class '__main__.BaseType'> Base () {'__module__': '__main__', '__qualname__': 'Base', 'foo': <function Base.foo at 0x7f245ca1d620>}\n"
     ]
    }
   ],
   "source": [
    "# library.py\n",
    "\n",
    "class BaseType(type):\n",
    "    def __new__(cls, name, bases, body):\n",
    "        print('BaseMeta.__new__', cls, name, bases, body)\n",
    "        return super().__new__(cls, name, bases, body)\n",
    "    \n",
    "class Base(metaclass = BaseType):\n",
    "    def foo(self):\n",
    "        return self.bar()"
   ]
  },
  {
   "cell_type": "code",
   "execution_count": null,
   "metadata": {},
   "outputs": [],
   "source": [
    "# We can see the body of the class as a dict.\n",
    "# Now to get the desired behaviour e can use assert"
   ]
  },
  {
   "cell_type": "code",
   "execution_count": 4,
   "metadata": {},
   "outputs": [
    {
     "ename": "TypeError",
     "evalue": "Bad user class",
     "output_type": "error",
     "traceback": [
      "\u001b[0;31m---------------------------------------------------------------------------\u001b[0m",
      "\u001b[0;31mTypeError\u001b[0m                                 Traceback (most recent call last)",
      "\u001b[0;32m<ipython-input-4-da631fb1e396>\u001b[0m in \u001b[0;36m<module>\u001b[0;34m()\u001b[0m\n\u001b[1;32m      5\u001b[0m         \u001b[0;32mreturn\u001b[0m \u001b[0msuper\u001b[0m\u001b[0;34m(\u001b[0m\u001b[0;34m)\u001b[0m\u001b[0;34m.\u001b[0m\u001b[0m__new__\u001b[0m\u001b[0;34m(\u001b[0m\u001b[0mcls\u001b[0m\u001b[0;34m,\u001b[0m \u001b[0mname\u001b[0m\u001b[0;34m,\u001b[0m \u001b[0mbases\u001b[0m\u001b[0;34m,\u001b[0m \u001b[0mbody\u001b[0m\u001b[0;34m)\u001b[0m\u001b[0;34m\u001b[0m\u001b[0m\n\u001b[1;32m      6\u001b[0m \u001b[0;34m\u001b[0m\u001b[0m\n\u001b[0;32m----> 7\u001b[0;31m \u001b[0;32mclass\u001b[0m \u001b[0mBase\u001b[0m\u001b[0;34m(\u001b[0m\u001b[0mmetaclass\u001b[0m \u001b[0;34m=\u001b[0m \u001b[0mBaseType\u001b[0m\u001b[0;34m)\u001b[0m\u001b[0;34m:\u001b[0m\u001b[0;34m\u001b[0m\u001b[0m\n\u001b[0m\u001b[1;32m      8\u001b[0m     \u001b[0;32mdef\u001b[0m \u001b[0mfoo\u001b[0m\u001b[0;34m(\u001b[0m\u001b[0mself\u001b[0m\u001b[0;34m)\u001b[0m\u001b[0;34m:\u001b[0m\u001b[0;34m\u001b[0m\u001b[0m\n\u001b[1;32m      9\u001b[0m         \u001b[0;32mreturn\u001b[0m \u001b[0mself\u001b[0m\u001b[0;34m.\u001b[0m\u001b[0mbar\u001b[0m\u001b[0;34m(\u001b[0m\u001b[0;34m)\u001b[0m\u001b[0;34m\u001b[0m\u001b[0m\n",
      "\u001b[0;32m<ipython-input-4-da631fb1e396>\u001b[0m in \u001b[0;36m__new__\u001b[0;34m(cls, name, bases, body)\u001b[0m\n\u001b[1;32m      2\u001b[0m     \u001b[0;32mdef\u001b[0m \u001b[0m__new__\u001b[0m\u001b[0;34m(\u001b[0m\u001b[0mcls\u001b[0m\u001b[0;34m,\u001b[0m \u001b[0mname\u001b[0m\u001b[0;34m,\u001b[0m \u001b[0mbases\u001b[0m\u001b[0;34m,\u001b[0m \u001b[0mbody\u001b[0m\u001b[0;34m)\u001b[0m\u001b[0;34m:\u001b[0m\u001b[0;34m\u001b[0m\u001b[0m\n\u001b[1;32m      3\u001b[0m         \u001b[0;32mif\u001b[0m \u001b[0;32mnot\u001b[0m \u001b[0;34m'bar'\u001b[0m \u001b[0;32min\u001b[0m \u001b[0mbody\u001b[0m\u001b[0;34m:\u001b[0m\u001b[0;34m\u001b[0m\u001b[0m\n\u001b[0;32m----> 4\u001b[0;31m             \u001b[0;32mraise\u001b[0m \u001b[0mTypeError\u001b[0m \u001b[0;34m(\u001b[0m\u001b[0;34m\"Bad user class\"\u001b[0m\u001b[0;34m)\u001b[0m\u001b[0;34m\u001b[0m\u001b[0m\n\u001b[0m\u001b[1;32m      5\u001b[0m         \u001b[0;32mreturn\u001b[0m \u001b[0msuper\u001b[0m\u001b[0;34m(\u001b[0m\u001b[0;34m)\u001b[0m\u001b[0;34m.\u001b[0m\u001b[0m__new__\u001b[0m\u001b[0;34m(\u001b[0m\u001b[0mcls\u001b[0m\u001b[0;34m,\u001b[0m \u001b[0mname\u001b[0m\u001b[0;34m,\u001b[0m \u001b[0mbases\u001b[0m\u001b[0;34m,\u001b[0m \u001b[0mbody\u001b[0m\u001b[0;34m)\u001b[0m\u001b[0;34m\u001b[0m\u001b[0m\n\u001b[1;32m      6\u001b[0m \u001b[0;34m\u001b[0m\u001b[0m\n",
      "\u001b[0;31mTypeError\u001b[0m: Bad user class"
     ]
    }
   ],
   "source": [
    "class BaseType(type):\n",
    "    def __new__(cls, name, bases, body):\n",
    "        if not 'bar' in body:\n",
    "            raise TypeError (\"Bad user class\")\n",
    "        return super().__new__(cls, name, bases, body)\n",
    "    \n",
    "class Base(metaclass = BaseType):\n",
    "    def foo(self):\n",
    "        return self.bar()"
   ]
  },
  {
   "cell_type": "code",
   "execution_count": 6,
   "metadata": {},
   "outputs": [],
   "source": [
    "# We get the error message as we have not yet made the bar method in Base"
   ]
  },
  {
   "cell_type": "markdown",
   "metadata": {},
   "source": [
    "## Decorators"
   ]
  },
  {
   "cell_type": "code",
   "execution_count": 9,
   "metadata": {},
   "outputs": [
    {
     "name": "stdout",
     "output_type": "stream",
     "text": [
      "add(10)  20\n",
      "add(20,30)  50\n",
      "add(\"a\", \"b\")  ab\n"
     ]
    }
   ],
   "source": [
    "# Suppose I want to time the given function \\\n",
    "\n",
    "def add(x, y=10):\n",
    "    return x+y\n",
    "\n",
    "print('add(10) ', add(10))\n",
    "print('add(20,30) ', add(20,30))\n",
    "print('add(\"a\", \"b\") ', add(\"a\", \"b\"))"
   ]
  },
  {
   "cell_type": "code",
   "execution_count": 12,
   "metadata": {},
   "outputs": [
    {
     "name": "stdout",
     "output_type": "stream",
     "text": [
      "add(10)  20\n",
      "Time taken  7.343292236328125e-05\n",
      "add(20,30)  50\n",
      "Time taken  4.458427429199219e-05\n",
      "add(\"a\", \"b\")  ab\n",
      "Time taken  4.38690185546875e-05\n"
     ]
    }
   ],
   "source": [
    "from time import time\n",
    "def add(x, y=10):\n",
    "    return x+y\n",
    "before = time()\n",
    "print('add(10) ', add(10))\n",
    "after = time()\n",
    "print('Time taken ', after - before)\n",
    "before = time()\n",
    "print('add(20,30) ', add(20,30))\n",
    "after = time()\n",
    "print('Time taken ', after - before)\n",
    "before = time()\n",
    "print('add(\"a\", \"b\") ', add(\"a\", \"b\"))\n",
    "after = time()\n",
    "print('Time taken ', after - before)\n",
    "\n",
    "# This approach uis bad as code repetition"
   ]
  },
  {
   "cell_type": "code",
   "execution_count": 15,
   "metadata": {},
   "outputs": [
    {
     "name": "stdout",
     "output_type": "stream",
     "text": [
      "Time taken  4.76837158203125e-07\n",
      "add(10)  20\n",
      "Time taken  2.384185791015625e-07\n",
      "add(20,30)  50\n",
      "Time taken  4.76837158203125e-07\n",
      "add(\"a\", \"b\")  ab\n"
     ]
    }
   ],
   "source": [
    "def add(x, y=10):\n",
    "    before = time()\n",
    "    rv = x + y\n",
    "    after = time()\n",
    "    print('Time taken ', after - before)\n",
    "    return rv\n",
    "\n",
    "print('add(10) ', add(10))\n",
    "print('add(20,30) ', add(20,30))\n",
    "print('add(\"a\", \"b\") ', add(\"a\", \"b\"))\n",
    "\n",
    "# Now if I have another function like\n",
    "def sub(x, y=10):\n",
    "    return x-y\n",
    "# Then you would have to enter all the code again and it will become a mess for a large number of functions"
   ]
  },
  {
   "cell_type": "code",
   "execution_count": 19,
   "metadata": {},
   "outputs": [
    {
     "name": "stdout",
     "output_type": "stream",
     "text": [
      "Time taken  4.76837158203125e-07\n",
      "add(10)  20\n",
      "Time taken  4.76837158203125e-07\n",
      "add(20,30)  50\n",
      "Time taken  4.76837158203125e-07\n",
      "add(\"a\", \"b\")  ab\n"
     ]
    }
   ],
   "source": [
    "def timer(func, x, y=10):\n",
    "    before = time()\n",
    "    rv = func(x,y)\n",
    "    after = time()\n",
    "    print('Time taken ', after-before)\n",
    "    return rv\n",
    "\n",
    "def add(x, y=10):\n",
    "    return x+y\n",
    "def sub(x, y=10):\n",
    "    return x-y\n",
    "\n",
    "print('add(10) ', timer(add, 10))\n",
    "print('add(20,30) ', timer(add, 20,30))\n",
    "print('add(\"a\", \"b\") ', timer(add, \"a\", \"b\"))\n",
    "\n",
    "# This approach is better than the last one"
   ]
  },
  {
   "cell_type": "code",
   "execution_count": 26,
   "metadata": {},
   "outputs": [
    {
     "name": "stdout",
     "output_type": "stream",
     "text": [
      "Time taken  4.76837158203125e-07\n",
      "add(10)  20\n",
      "Time taken  4.76837158203125e-07\n",
      "add(20,30)  50\n",
      "Time taken  4.76837158203125e-07\n",
      "add(\"a\", \"b\")  ab\n"
     ]
    }
   ],
   "source": [
    "def timer(func):\n",
    "    def f(x,y=10):\n",
    "        before = time()\n",
    "        rv = func(x,y)\n",
    "        after = time()\n",
    "        print('Time taken ', after-before)\n",
    "        return rv\n",
    "    return f\n",
    "\n",
    "def add(x, y=10):\n",
    "    return x+y\n",
    "add = timer(add)\n",
    "\n",
    "def sub(x, y=10):\n",
    "    return x-y\n",
    "sub = timer(sub)\n",
    "\n",
    "print('add(10) ', add(10))\n",
    "print('add(20,30) ', add(20,30))\n",
    "print('add(\"a\", \"b\") ', add(\"a\", \"b\"))\n",
    "\n",
    "# Here I wrapped a function around another function"
   ]
  },
  {
   "cell_type": "code",
   "execution_count": 27,
   "metadata": {},
   "outputs": [
    {
     "name": "stdout",
     "output_type": "stream",
     "text": [
      "Time taken  4.76837158203125e-07\n",
      "add(10)  20\n",
      "Time taken  4.76837158203125e-07\n",
      "add(20,30)  50\n",
      "Time taken  2.384185791015625e-07\n",
      "add(\"a\", \"b\")  ab\n"
     ]
    }
   ],
   "source": [
    "# The above functionality of wrapping a function around another function is provided by decorator\n",
    "\n",
    "def timer(func):\n",
    "    def f(x,y=10):\n",
    "        before = time()\n",
    "        rv = func(x,y)\n",
    "        after = time()\n",
    "        print('Time taken ', after-before)\n",
    "        return rv\n",
    "    return f\n",
    "\n",
    "@timer\n",
    "def add(x, y=10):\n",
    "    return x+y\n",
    "\n",
    "@timer\n",
    "def sub(x, y=10):\n",
    "    return x-y\n",
    "\n",
    "print('add(10) ', add(10))\n",
    "print('add(20,30) ', add(20,30))\n",
    "print('add(\"a\", \"b\") ', add(\"a\", \"b\"))"
   ]
  },
  {
   "cell_type": "code",
   "execution_count": 29,
   "metadata": {},
   "outputs": [
    {
     "name": "stdout",
     "output_type": "stream",
     "text": [
      "running add\n",
      "running add\n",
      "add(10) 20\n",
      "running add\n",
      "running add\n",
      "add(10,20) 30\n",
      "running sub\n",
      "running sub\n",
      "running sub\n",
      "running sub\n",
      "running sub\n",
      "sub(10) 0\n",
      "running sub\n",
      "running sub\n",
      "running sub\n",
      "running sub\n",
      "running sub\n",
      "sub(20,10) 10\n"
     ]
    }
   ],
   "source": [
    "# If you want to run a function n times say decorators\n",
    "def ntimes(n):\n",
    "    def inner(f):\n",
    "        def wrapper(*args, **kwargs):\n",
    "            for _ in range(n):\n",
    "                print('running {.__name__}'.format(f))\n",
    "                rv = f(*args, **kwargs)\n",
    "            return rv\n",
    "        return wrapper\n",
    "    return inner\n",
    "\n",
    "@ntimes(2)\n",
    "def add(x, y=10):\n",
    "    return x+y\n",
    "\n",
    "@ntimes(5)\n",
    "def sub(x, y=10):\n",
    "    return x-y\n",
    "\n",
    "print('add(10)', add(10))\n",
    "print('add(10,20)', add(10,20))\n",
    "print('sub(10)', sub(10))\n",
    "print('sub(20,10)', sub(20,10))"
   ]
  },
  {
   "cell_type": "markdown",
   "metadata": {},
   "source": [
    "## Generators"
   ]
  },
  {
   "cell_type": "code",
   "execution_count": 32,
   "metadata": {},
   "outputs": [
    {
     "name": "stdout",
     "output_type": "stream",
     "text": [
      "30\n",
      "30\n"
     ]
    }
   ],
   "source": [
    "# Every x() function is implemented by __call__\n",
    "def add1(x,y):\n",
    "    return x+y\n",
    "\n",
    "class Adder:\n",
    "    def __call__(self, x, y):\n",
    "        return x+y\n",
    "\n",
    "add2 = Adder()\n",
    "\n",
    "print(add1(10,20))\n",
    "print(add2(10,20))\n",
    "\n",
    "# The only difference between them is that add1 is easy to write than add2. Internally add1 is implemented in a very close manner as add2"
   ]
  },
  {
   "cell_type": "code",
   "execution_count": 34,
   "metadata": {},
   "outputs": [
    {
     "data": {
      "text/plain": [
       "[0, 1, 2, 3, 4, 5, 6, 7, 8, 9]"
      ]
     },
     "execution_count": 34,
     "metadata": {},
     "output_type": "execute_result"
    }
   ],
   "source": [
    "# Suppose you are doing database loading with python and doing some operation which I show for simplicity as waiting got .5 sec.\n",
    "from time import sleep\n",
    "\n",
    "def compute():\n",
    "    rv = []\n",
    "    for i in range(10):\n",
    "        sleep(.5)\n",
    "        rv.append(i)\n",
    "    return rv\n",
    "\n",
    "compute()\n",
    "# The problem with this function is that it returns all the values together. Suppose that the wait time is very large than you will\n",
    "# have to wait a long time. Or you could get one value at a time and process it one by one."
   ]
  },
  {
   "cell_type": "code",
   "execution_count": 37,
   "metadata": {},
   "outputs": [
    {
     "name": "stdout",
     "output_type": "stream",
     "text": [
      "0\n",
      "1\n",
      "2\n",
      "3\n",
      "4\n",
      "5\n",
      "6\n",
      "7\n",
      "8\n",
      "9\n"
     ]
    }
   ],
   "source": [
    "class Compute:\n",
    "    def __iter__(self):\n",
    "        self.last = 0\n",
    "        return self\n",
    "    def __next__(self):\n",
    "        rv = self.last\n",
    "        self.last += 1\n",
    "        if(self.last > 10):\n",
    "            raise StopIteration()\n",
    "        sleep(.5)\n",
    "        return rv\n",
    "\n",
    "for val in Compute():\n",
    "    print(val)\n",
    "    \n",
    "# This method also uses less memory as earlier we had to store the entire list and here it is not the case"
   ]
  },
  {
   "cell_type": "code",
   "execution_count": 40,
   "metadata": {},
   "outputs": [
    {
     "name": "stdout",
     "output_type": "stream",
     "text": [
      "0\n",
      "1\n",
      "2\n",
      "3\n",
      "4\n",
      "5\n",
      "6\n",
      "7\n",
      "8\n",
      "9\n"
     ]
    }
   ],
   "source": [
    "# Generator syntax allows you to write the __iter__ and __call__ in a nice and clean manner\n",
    "def compute():\n",
    "    for i in range(10):\n",
    "        sleep(.5)\n",
    "        yield i\n",
    "\n",
    "for val in compute():\n",
    "    print(val)"
   ]
  },
  {
   "cell_type": "code",
   "execution_count": 42,
   "metadata": {},
   "outputs": [],
   "source": [
    "class API:\n",
    "    def run_this_first(self):\n",
    "        first()\n",
    "    def run_this_second(self):\n",
    "        second()\n",
    "    def run_this_last(self):\n",
    "        last()\n",
    "\n",
    "# Now to make sure that they run in the same order you can use generator. Creating a new function with all the mehtods written in the\n",
    "# desired order is not an option like \n",
    "# def doit():\n",
    "#   first()\n",
    "#   second()\n",
    "#   last()\n",
    "# because we want to get user input adter each function completes it's execution\n",
    "\n",
    "def api():\n",
    "    first()\n",
    "    yield\n",
    "    second()\n",
    "    yield\n",
    "    last()\n",
    "\n",
    "# Here after running first() it will wait for user response and then go to second()"
   ]
  },
  {
   "cell_type": "markdown",
   "metadata": {},
   "source": [
    "## Context Managers"
   ]
  },
  {
   "cell_type": "code",
   "execution_count": 43,
   "metadata": {},
   "outputs": [],
   "source": [
    "# Similar to resource allocation is initialization concept. Suppose you open a file and then after you operate on it, you would have to close in\n",
    "# order to free up the memory or flush it out."
   ]
  },
  {
   "cell_type": "code",
   "execution_count": 3,
   "metadata": {},
   "outputs": [
    {
     "name": "stdout",
     "output_type": "stream",
     "text": [
      "(1, 1)\n",
      "(1, 2)\n",
      "(2, 1)\n",
      "(5,)\n"
     ]
    }
   ],
   "source": [
    "from sqlite3 import connect\n",
    "with connect('test.db') as conn:\n",
    "        cur = conn.cursor()\n",
    "        cur.execute('Create table point (x int, y int)')\n",
    "        cur.execute('insert into point (x,y) values(1,1)')\n",
    "        cur.execute('insert into point (x,y) values(1,2)')\n",
    "        cur.execute('insert into point (x,y) values(2,1)')\n",
    "        for row in cur.execute('select x,y from point'):\n",
    "            print(row)\n",
    "        for row in cur.execute('select sum(x*y) from point'):\n",
    "            print(row)\n",
    "        cur.execute('drop table point')"
   ]
  },
  {
   "cell_type": "code",
   "execution_count": 20,
   "metadata": {},
   "outputs": [
    {
     "name": "stdout",
     "output_type": "stream",
     "text": [
      "__enter__\n",
      "(1, 1)\n",
      "(1, 2)\n",
      "(2, 1)\n",
      "(5,)\n",
      "__exit__\n"
     ]
    }
   ],
   "source": [
    "# You want to make sure that the openeing and closing of table as above is done even if an error occurs. We use context manager for that.\n",
    "\n",
    "class tempTable:\n",
    "    def __init__(self, cur):\n",
    "        self.cur = cur\n",
    "    def __enter__(self):\n",
    "        print('__enter__')\n",
    "        self.cur.execute('create table point (x int, y int)')\n",
    "    def __exit__(self, *args):\n",
    "        print('__exit__')\n",
    "        self.cur.execute('drop table point')\n",
    "\n",
    "with connect('Test.db') as conn:\n",
    "    cur = conn.cursor()\n",
    "    with tempTable(cur):\n",
    "        cur.execute('insert into point (x,y) values(1,1)')\n",
    "        cur.execute('insert into point (x,y) values(1,2)')\n",
    "        cur.execute('insert into point (x,y) values(2,1)')\n",
    "        for row in cur.execute('select x,y from point'):\n",
    "            print(row)\n",
    "        for row in cur.execute('select sum(x*y) from point'):\n",
    "            print(row)\n",
    "            \n",
    "# You can note that you can run this cell multiple times without getting any error every time our table is created it is dropped in the end.\n",
    "# Now notice that it follows a sequence i.e. __enter__ comes first and then __exit__\n",
    "# We could accompplish this by using generators also."
   ]
  },
  {
   "cell_type": "code",
   "execution_count": 23,
   "metadata": {},
   "outputs": [
    {
     "name": "stdout",
     "output_type": "stream",
     "text": [
      "Created table\n",
      "(1, 1)\n",
      "(1, 2)\n",
      "(2, 1)\n",
      "(5,)\n",
      "Dropped table\n"
     ]
    }
   ],
   "source": [
    "def tempTable(cur):\n",
    "    print('Created table')\n",
    "    cur.execute('create table point (x int, y int)')\n",
    "    yield\n",
    "    print('Dropped table')\n",
    "    cur.execute('drop table point')\n",
    "    \n",
    "class contextManager:\n",
    "    def __init__(self, cur):\n",
    "        self.cur = cur\n",
    "    def __enter__(self):\n",
    "        self.gen = tempTable(self.cur)\n",
    "        next(self.gen)\n",
    "    def __exit__(self, *args):\n",
    "        next(self.gen, None)\n",
    "\n",
    "with connect('Test.db') as conn:\n",
    "    cur = conn.cursor()\n",
    "    with contextManager(cur):\n",
    "        cur.execute('insert into point (x,y) values(1,1)')\n",
    "        cur.execute('insert into point (x,y) values(1,2)')\n",
    "        cur.execute('insert into point (x,y) values(2,1)')\n",
    "        for row in cur.execute('select x,y from point'):\n",
    "            print(row)\n",
    "        for row in cur.execute('select sum(x*y) from point'):\n",
    "            print(row)"
   ]
  },
  {
   "cell_type": "code",
   "execution_count": 26,
   "metadata": {},
   "outputs": [
    {
     "name": "stdout",
     "output_type": "stream",
     "text": [
      "(1, 1)\n",
      "(1, 2)\n",
      "(2, 1)\n",
      "(5,)\n"
     ]
    }
   ],
   "source": [
    "# All the context manager is provided by a python library\n",
    "from contextlib import contextmanager\n",
    "\n",
    "@contextmanager\n",
    "def tempTable(cur):\n",
    "    cur.execute('create table point (x int, y int)')\n",
    "    try:\n",
    "        yield\n",
    "    finally:\n",
    "        cur.execute('drop table point')\n",
    "\n",
    "with connect('Test.db') as conn:\n",
    "    cur = conn.cursor()\n",
    "    with tempTable(cur):\n",
    "        cur.execute('insert into point (x,y) values(1,1)')\n",
    "        cur.execute('insert into point (x,y) values(1,2)')\n",
    "        cur.execute('insert into point (x,y) values(2,1)')\n",
    "        for row in cur.execute('select x,y from point'):\n",
    "            print(row)\n",
    "        for row in cur.execute('select sum(x*y) from point'):\n",
    "            print(row)"
   ]
  },
  {
   "cell_type": "code",
   "execution_count": null,
   "metadata": {},
   "outputs": [],
   "source": [
    "                                                                                            "
   ]
  }
 ],
 "metadata": {
  "kernelspec": {
   "display_name": "Python 3",
   "language": "python",
   "name": "python3"
  },
  "language_info": {
   "codemirror_mode": {
    "name": "ipython",
    "version": 3
   },
   "file_extension": ".py",
   "mimetype": "text/x-python",
   "name": "python",
   "nbconvert_exporter": "python",
   "pygments_lexer": "ipython3",
   "version": "3.6.4"
  }
 },
 "nbformat": 4,
 "nbformat_minor": 2
}
