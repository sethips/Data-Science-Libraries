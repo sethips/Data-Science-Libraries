{
 "cells": [
  {
   "cell_type": "code",
   "execution_count": 1,
   "metadata": {},
   "outputs": [],
   "source": [
    "import tensorflow as tf"
   ]
  },
  {
   "cell_type": "code",
   "execution_count": 7,
   "metadata": {},
   "outputs": [
    {
     "data": {
      "text/plain": [
       "array([[ 3.,  3.],\n",
       "       [ 2.,  5.]])"
      ]
     },
     "execution_count": 7,
     "metadata": {},
     "output_type": "execute_result"
    }
   ],
   "source": [
    "# abs\n",
    "# To get absolute value of a Tensor or placeholder or scalar\n",
    "x = tf.constant([[-3, 3], [2, -3 - 4j]])\n",
    "\n",
    "val = tf.abs(x, name = 'abs')\n",
    "\n",
    "sess = tf.Session()\n",
    "sess.run(val)"
   ]
  },
  {
   "cell_type": "code",
   "execution_count": 9,
   "metadata": {},
   "outputs": [
    {
     "data": {
      "text/plain": [
       "array([[7, 4],\n",
       "       [5, 4]], dtype=int32)"
      ]
     },
     "execution_count": 9,
     "metadata": {},
     "output_type": "execute_result"
    }
   ],
   "source": [
    "# accumulate_n\n",
    "# To get element wise sum of a tensor\n",
    "x = tf.constant([[2,4], [3,1]])\n",
    "y = tf.constant([[5,0], [2,3]])\n",
    "\n",
    "val = tf.accumulate_n([x,y], shape=[2,2], tensor_dtype = tf.int32, name='accumuate_n')\n",
    "\n",
    "sess.run(val)\n",
    "# It is not differentiable as it calculates the sum as the inputs are\n",
    "# provided. To get differentiable output use add_n"
   ]
  },
  {
   "cell_type": "code",
   "execution_count": 10,
   "metadata": {},
   "outputs": [],
   "source": [
    "# acos\n",
    "# To get element wise cos of all elements\n",
    "\n",
    "# acosh"
   ]
  },
  {
   "cell_type": "code",
   "execution_count": 12,
   "metadata": {},
   "outputs": [
    {
     "data": {
      "text/plain": [
       "array([[2, 4],\n",
       "       [4, 6]], dtype=int32)"
      ]
     },
     "execution_count": 12,
     "metadata": {},
     "output_type": "execute_result"
    }
   ],
   "source": [
    "# add\n",
    "# To add two tensors\n",
    "# It supports broadcasting\n",
    "x = tf.constant([1,2])\n",
    "y = tf.constant([[1,2], [3,4]])\n",
    "\n",
    "val = tf.add(x, y, name = 'add')\n",
    "\n",
    "sess.run(val)"
   ]
  },
  {
   "cell_type": "code",
   "execution_count": 21,
   "metadata": {},
   "outputs": [
    {
     "data": {
      "text/plain": [
       "array([[ 3,  6],\n",
       "       [ 9, 12]], dtype=int32)"
      ]
     },
     "execution_count": 21,
     "metadata": {},
     "output_type": "execute_result"
    }
   ],
   "source": [
    "# add_n\n",
    "# To do the same operation as add except broadcasting is not allowed\n",
    "# It takes list as an input\n",
    "val = tf.add_n([y, y, y])\n",
    "\n",
    "sess.run(val)"
   ]
  },
  {
   "cell_type": "code",
   "execution_count": 22,
   "metadata": {},
   "outputs": [],
   "source": []
  },
  {
   "cell_type": "markdown",
   "metadata": {},
   "source": [
    "### Tensor operations"
   ]
  },
  {
   "cell_type": "code",
   "execution_count": null,
   "metadata": {},
   "outputs": [],
   "source": [
    "# Casting\n",
    "tensor = tf."
   ]
  }
 ],
 "metadata": {
  "kernelspec": {
   "display_name": "Python 3",
   "language": "python",
   "name": "python3"
  },
  "language_info": {
   "codemirror_mode": {
    "name": "ipython",
    "version": 3
   },
   "file_extension": ".py",
   "mimetype": "text/x-python",
   "name": "python",
   "nbconvert_exporter": "python",
   "pygments_lexer": "ipython3",
   "version": "3.6.4"
  }
 },
 "nbformat": 4,
 "nbformat_minor": 2
}
